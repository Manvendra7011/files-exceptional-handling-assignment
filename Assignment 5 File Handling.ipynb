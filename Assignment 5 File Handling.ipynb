{
 "cells": [
  {
   "cell_type": "markdown",
   "id": "1b500a00-6862-42d8-89d8-d4225a6f6081",
   "metadata": {},
   "source": [
    "Question (1): What is the difference between interpreted and compiled languages?\n",
    "Answer - Interpreted languages execute code line by line at runtime using an interpreter, making them easier to debug but slower. Compiled languages translate the entire code into machine code before execution, resulting in faster performance but requiring recompilation after changes.\n",
    "\n",
    "Question (2): What is exception handling in Python?\n",
    "Answer - Exception handling in Python is a mechanism to deal with runtime errors gracefully using try, except, finally, and else blocks, preventing program crashes.\n",
    "\n",
    "Question (3): What is the purpose of the finally block in exception handling?\n",
    "Answer - The finally block is used to execute code regardless of whether an exception occurred or not, typically for cleanup actions like closing files or releasing resources.\n",
    "\n",
    "Question (4): What is logging in Python?\n",
    "Answer - Logging in Python is a way to record program events, errors, or debug information into files or other outputs, providing insights into program execution for debugging and monitoring.\n",
    "\n",
    "Question (5): What is the significance of the del method in Python?\n",
    "Answer - The __del__ method is a destructor called when an object is about to be destroyed, allowing cleanup actions like closing connections or releasing resources.\n",
    "\n",
    "Question (6): What is the difference between import and from ... import in Python?\n",
    "Answer - import module loads the whole module and requires using module.name. from module import name loads only the specified object and allows direct use without the module prefix.\n",
    "\n",
    "Question (7): How can you handle multiple exceptions in Python?\n",
    "Answer - Multiple exceptions can be handled by specifying multiple except blocks for different exceptions or by catching a tuple of exceptions in a single block.\n",
    "\n",
    "Question (8): What is the purpose of the with statement when handling files in Python?\n",
    "Answer - The with statement ensures proper acquisition and release of resources, automatically closing the file after operations, even if an error occurs.\n",
    "\n",
    "Question (9): What is the difference between multithreading and multiprocessing?\n",
    "Answer - Multithreading allows concurrent execution of multiple threads within the same process, sharing memory space. Multiprocessing creates separate processes with independent memory, achieving true parallelism.\n",
    "\n",
    "Question (10): What are the advantages of using logging in a program?\n",
    "Answer - Advantages include tracking events, debugging, monitoring system behavior, diagnosing issues, and providing persistent records of execution.\n",
    "\n",
    "Question (11): What is memory management in Python?\n",
    "Answer - Memory management in Python involves the allocation and deallocation of memory for objects, handled automatically using a private heap and garbage collection system.\n",
    "\n",
    "Question (12): What are the basic steps involved in exception handling in Python?\n",
    "Answer - Steps include writing code in a try block, catching exceptions with except, handling cleanup with finally, and executing optional code with else if no error occurs.\n",
    "\n",
    "Question (13): Why is memory management important in Python?\n",
    "Answer - Memory management ensures efficient use of resources, prevents memory leaks, avoids crashes, and improves program performance and reliability.\n",
    "\n",
    "Question (14): What is the role of try and except in exception handling?\n",
    "Answer - The try block contains code that may raise exceptions, while the except block handles those exceptions, preventing program termination.\n",
    "\n",
    "Question (15): How does Python's garbage collection system work?\n",
    "Answer - Python uses reference counting and a cyclic garbage collector to automatically reclaim memory by deleting objects no longer referenced.\n",
    "\n",
    "Question (16): What is the purpose of the else block in exception handling?\n",
    "Answer - The else block executes only if no exceptions are raised in the try block, often used for code that should run when operations succeed.\n",
    "\n",
    "Question (17): What are the common logging levels in Python?\n",
    "Answer - Common levels are DEBUG, INFO, WARNING, ERROR, and CRITICAL, representing increasing severity of logged events.\n",
    "\n",
    "Question (18): What is the difference between os.fork() and multiprocessing in Python?\n",
    "Answer - os.fork() creates a child process by duplicating the current process, available only on Unix. The multiprocessing module provides a cross-platform way to create and manage processes with higher-level abstractions.\n",
    "\n",
    "Question (19): What is the importance of closing a file in Python?\n",
    "Answer - Closing a file releases system resources, ensures data is saved to disk, and prevents file corruption or memory leaks.\n",
    "\n",
    "Question (20): What is the difference between file.read() and file.readline() in Python?\n",
    "Answer - file.read() reads the entire file (or a specified number of characters), while file.readline() reads only one line at a time.\n",
    "\n",
    "Question (21): What is the logging module in Python used for?\n",
    "Answer - The logging module is used to record messages, track events, and handle errors or debugging information in a standardized and configurable way.\n",
    "\n",
    "Question (22): What is the os module in Python used for in file handling?\n",
    "Answer - The os module provides functions for interacting with the operating system, such as creating, deleting, and checking files or directories.\n",
    "\n",
    "Question (23): What are the challenges associated with memory management in Python?\n",
    "Answer - Challenges include handling circular references, memory fragmentation, performance overhead from garbage collection, and managing large datasets.\n",
    "\n",
    "Question (24): How do you raise an exception manually in Python?\n",
    "Answer - Exceptions are raised manually using the raise keyword followed by an exception type, such as raise ValueError(\"Invalid input\").\n",
    "\n",
    "Question (25): Why is it important to use multithreading in certain applications?\n",
    "Answer - Multithreading improves responsiveness, enables concurrent I/O operations, optimizes resource usage, and is useful in applications requiring tasks to run simultaneously without blocking."
   ]
  },
  {
   "cell_type": "code",
   "execution_count": 4,
   "id": "615c8beb-9cdc-4dc3-9a18-9c25893f1b40",
   "metadata": {},
   "outputs": [],
   "source": [
    "#1  How can you open a file for writing in Python and write a string to it\n",
    "with open(\"file.txt\",\"w\") as f:\n",
    "    f.write(\"This is my first string\\n\")\n",
    "    f.write(\"This is my second string\")"
   ]
  },
  {
   "cell_type": "code",
   "execution_count": 5,
   "id": "0eddaf70-f84c-488e-b955-4608ac7b33c6",
   "metadata": {},
   "outputs": [
    {
     "name": "stdout",
     "output_type": "stream",
     "text": [
      "This is my first string\n",
      "This is my second string\n"
     ]
    }
   ],
   "source": [
    "#2  Write a Python program to read the contents of a file and print each line\n",
    "with open(\"file.txt\", \"r\") as f:\n",
    "    for line in f:\n",
    "        print(line.strip())"
   ]
  },
  {
   "cell_type": "code",
   "execution_count": 6,
   "id": "2435c342-a77e-4b37-bd18-569273cfe3f2",
   "metadata": {},
   "outputs": [
    {
     "name": "stdout",
     "output_type": "stream",
     "text": [
      "Error [Errno 2] No such file or directory: 'read.txt'\n"
     ]
    }
   ],
   "source": [
    "#3 How would you handle a case where the file doesn't exist while trying to open it for reading\n",
    "try:\n",
    "    with open(\"read.txt\",\"r\") as f:\n",
    "        f.read()\n",
    "except Exception as e:\n",
    "    print(\"Error\",e)"
   ]
  },
  {
   "cell_type": "code",
   "execution_count": 11,
   "id": "cfab3885-3edb-47d8-9c43-719819956a62",
   "metadata": {},
   "outputs": [],
   "source": [
    "#4 Write a Python script that reads from one file and writes its content to another fileF\n",
    "with open(\"file.txt\",\"r\") as src, open(\"newFile.txt\",\"w\") as dest:\n",
    "    for line in src:\n",
    "        dest.write(line)"
   ]
  },
  {
   "cell_type": "code",
   "execution_count": 12,
   "id": "d750403b-a2ca-4cf7-a515-f6eaa784ace0",
   "metadata": {},
   "outputs": [
    {
     "name": "stdout",
     "output_type": "stream",
     "text": [
      "Can not divide by zero\n"
     ]
    }
   ],
   "source": [
    "#5 How would you catch and handle division by zero error in Python\n",
    "try:\n",
    "    print(6/0)\n",
    "except ZeroDivisionError:\n",
    "    print(\"Can not divide by zero\")"
   ]
  },
  {
   "cell_type": "code",
   "execution_count": 14,
   "id": "bd0aecc8-9fc1-454b-8f36-d19477def170",
   "metadata": {},
   "outputs": [],
   "source": [
    "#6 Write a Python program that logs an error message to a log file when a division by zero exception occurs\n",
    "import logging\n",
    "logging.basicConfig(\n",
    "    filename = \"program.log\",\n",
    "    level = logging.DEBUG,\n",
    "    format = \"%(asctime)s %(levelname)s %(message)s\"\n",
    ")\n",
    "def divide(a,b):\n",
    "    return(a/b)\n",
    "try:\n",
    "    divide(10,0)\n",
    "except ZeroDivisionError as e:\n",
    "    logging.error(f\"{e}\")"
   ]
  },
  {
   "cell_type": "code",
   "execution_count": 50,
   "id": "848e9187-5367-408c-8ac1-7522e557b872",
   "metadata": {},
   "outputs": [],
   "source": [
    "#7 How do you log information at different levels (INFO, ERROR, WARNING) in Python using the logging module\n",
    "import logging\n",
    "logging.basicConfig(\n",
    "    filename = \"program.log\",\n",
    "    level = logging.INFO,\n",
    "    format = \"%(asctime)s %(levelname)s %(message)s\"\n",
    ")\n",
    "logging.info(\"Info message\")\n",
    "logging.warning(\"warning message\")\n",
    "logging.error(\"error message\")"
   ]
  },
  {
   "cell_type": "code",
   "execution_count": 54,
   "id": "514aebde-b26e-4ca7-914d-e0ceb07b9ab9",
   "metadata": {},
   "outputs": [
    {
     "name": "stdout",
     "output_type": "stream",
     "text": [
      "[Errno 2] No such file or directory: 'file1.txt'\n"
     ]
    }
   ],
   "source": [
    "#8 Write a program to handle a file opening error using exception handling\n",
    "try:\n",
    "    with open(\"file1.txt\",\"r\") as f:\n",
    "        f.read()\n",
    "except FileNotFoundError as e:\n",
    "    print(e)"
   ]
  },
  {
   "cell_type": "code",
   "execution_count": 23,
   "id": "a7ded514-518a-4a83-8308-a37b7b16ed65",
   "metadata": {},
   "outputs": [
    {
     "name": "stdout",
     "output_type": "stream",
     "text": [
      "['This is my first string\\n', 'This is my second string']\n"
     ]
    }
   ],
   "source": [
    "#9  How can you read a file line by line and store its content in a list in Python\n",
    "with open(\"file.txt\",\"r\") as f:\n",
    "    print(f.readlines())"
   ]
  },
  {
   "cell_type": "code",
   "execution_count": 26,
   "id": "384f2507-ea74-4381-aaaa-f8f321c07973",
   "metadata": {},
   "outputs": [
    {
     "name": "stdout",
     "output_type": "stream",
     "text": [
      "This is the first line\n",
      "This is the seconds line\n",
      "This is the third line\n",
      "\n"
     ]
    }
   ],
   "source": [
    "#10 How can you append data to an existing file in Python\n",
    "with open(\"new.txt\",\"w\") as f:\n",
    "    f.write(\"This is the first line\\n\")\n",
    "    f.write(\"This is the seconds line\\n\")\n",
    "with open(\"new.txt\",\"a\") as f:\n",
    "    f.write(\"This is the third line\\n\")\n",
    "with open(\"new.txt\",\"r\") as f:\n",
    "    print(f.read())"
   ]
  },
  {
   "cell_type": "code",
   "execution_count": 37,
   "id": "bea65e32-6e43-4dc4-8b71-ef2995c9ed67",
   "metadata": {},
   "outputs": [
    {
     "name": "stdout",
     "output_type": "stream",
     "text": [
      "misssing field 'gender'\n"
     ]
    }
   ],
   "source": [
    "#11 Write a Python program that uses a try-except block to handle an error when attempting to access a dictionary key that doesn't existF\n",
    "def dict_key():\n",
    "    try:\n",
    "        data = {\n",
    "        \"name\": \"Manvendra\",\n",
    "        \"age\": 23\n",
    "        }\n",
    "        print(data[\"gender\"])\n",
    "    \n",
    "    except KeyError as e:\n",
    "        print(f\"misssing field {e}\")\n",
    "dict_key()"
   ]
  },
  {
   "cell_type": "code",
   "execution_count": 40,
   "id": "09bb1bef-f072-4855-ac2e-53a25d70d6dd",
   "metadata": {},
   "outputs": [
    {
     "name": "stdin",
     "output_type": "stream",
     "text": [
      "Enter a numerator:  5\n",
      "Enter a denominator:  0\n"
     ]
    },
    {
     "name": "stdout",
     "output_type": "stream",
     "text": [
      "Error: Division by zero is not allowed!\n"
     ]
    }
   ],
   "source": [
    "#12 Write a program that demonstrates using multiple except blocks to handle different types of exceptions\n",
    "def multiple_exceptions_demo():\n",
    "    try:\n",
    "        a = int(input(\"Enter a numerator: \"))\n",
    "        b = int(input(\"Enter a denominator: \"))\n",
    "        result = a / b\n",
    "        print(\"Result:\", result)\n",
    "\n",
    "        data = {\"name\": \"Manvendra\"}\n",
    "        print(\"Age:\", data[\"age\"]) \n",
    "\n",
    "    except ZeroDivisionError:\n",
    "        print(\"Error: Division by zero is not allowed!\")\n",
    "\n",
    "    except ValueError:\n",
    "        print(\"Error: Please enter a valid integer!\")\n",
    "\n",
    "    except KeyError as e:\n",
    "        print(f\"Error: The key {e} does not exist in the dictionary.\")\n",
    "\n",
    "    except Exception as e:\n",
    "        print(f\"An unexpected error occurred: {e}\")\n",
    "\n",
    "multiple_exceptions_demo()\n"
   ]
  },
  {
   "cell_type": "code",
   "execution_count": 52,
   "id": "a3a02683-f55a-404f-9c5d-775317cdf466",
   "metadata": {},
   "outputs": [
    {
     "name": "stdout",
     "output_type": "stream",
     "text": [
      "File does not exist\n"
     ]
    }
   ],
   "source": [
    "#13 How would you check if a file exists before attempting to read it in Python\n",
    "import os \n",
    "filename = \"new1.txt\"\n",
    "if os.path.exists(filename):\n",
    "    with open(filename,\"r\") as f:\n",
    "        print(f.read())\n",
    "else:\n",
    "    print(\"File does not exist\")"
   ]
  },
  {
   "cell_type": "code",
   "execution_count": 53,
   "id": "608f9456-308b-417c-949c-3fb4497a9653",
   "metadata": {},
   "outputs": [],
   "source": [
    "#14 Write a program that uses the logging module to log both informational and error messages\n",
    "import logging\n",
    "\n",
    "logging.basicConfig(\n",
    "    filename = \"program.log\",\n",
    "    level = logging.DEBUG,\n",
    "    format = \"%(asctime)s %(levelname)s %(message)s\"\n",
    "    )\n",
    "def divide_numbers(a, b):\n",
    "    logging.info(f\"Attempting to divide {a} by {b}\")\n",
    "    try:\n",
    "        result = a / b\n",
    "        logging.info(f\"Division successful: {result}\")\n",
    "        return result\n",
    "    except ZeroDivisionError as e:\n",
    "        logging.error(\"Division by zero attempted!\")\n",
    "        return None\n",
    "divide_numbers(10, 2)\n",
    "divide_numbers(10, 0)"
   ]
  },
  {
   "cell_type": "code",
   "execution_count": 56,
   "id": "d61b24a6-d8d2-43d7-bc10-044b1b1ddb31",
   "metadata": {},
   "outputs": [
    {
     "name": "stdout",
     "output_type": "stream",
     "text": [
      "File is empty\n"
     ]
    }
   ],
   "source": [
    "#15 Write a Python program that prints the content of a file and handles the case when the file is empty\n",
    "with open(\"new1.txt\",\"r\") as f:\n",
    "    content = f.read()\n",
    "    if not content:\n",
    "        print(\"File is empty\")\n",
    "    else:\n",
    "        print(content)"
   ]
  },
  {
   "cell_type": "code",
   "execution_count": 16,
   "id": "1990b494-c851-4ff1-a610-bb91776b54ba",
   "metadata": {},
   "outputs": [
    {
     "name": "stdout",
     "output_type": "stream",
     "text": [
      "Current memory usage: 0.63 KB\n",
      "Peak memory usage: 779.88 KB\n"
     ]
    }
   ],
   "source": [
    "#16 Demonstrate how to use memory profiling to check the memory usage of a small programF\n",
    "import tracemalloc\n",
    "\n",
    "def my_func():\n",
    "    a = [i for i in range(10000)]\n",
    "    b = [i * 2 for i in range(10000)]\n",
    "    return a, b\n",
    "\n",
    "if __name__ == \"__main__\":\n",
    "    tracemalloc.start()  # start tracing memory\n",
    "    my_func()\n",
    "    current, peak = tracemalloc.get_traced_memory()\n",
    "    print(f\"Current memory usage: {current / 1024:.2f} KB\")\n",
    "    print(f\"Peak memory usage: {peak / 1024:.2f} KB\")\n",
    "    tracemalloc.stop()\n"
   ]
  },
  {
   "cell_type": "code",
   "execution_count": 3,
   "id": "92165b58-973d-4a0d-87db-5333bd8e6393",
   "metadata": {},
   "outputs": [],
   "source": [
    "#17 Write a Python program to create and write a list of numbers to a file, one number per line\n",
    "numbers = [1, 2, 3, 4, 5]\n",
    "with open(\"numbers.txt\", \"w\") as f:\n",
    "    for num in numbers:\n",
    "        f.write(str(num) + \"\\n\")"
   ]
  },
  {
   "cell_type": "code",
   "execution_count": 4,
   "id": "84407ae0-8330-4c65-aaae-7e968eda1992",
   "metadata": {},
   "outputs": [],
   "source": [
    "import logging\n",
    "from logging.handlers import RotatingFileHandler\n",
    "\n",
    "logger = logging.getLogger(\"my_logger\")\n",
    "logger.setLevel(logging.INFO)\n",
    "handler = RotatingFileHandler(\"app.log\", maxBytes=1_000_000, backupCount=3)\n",
    "logger.addHandler(handler)\n",
    "logger.info(\"This is a log message\")"
   ]
  },
  {
   "cell_type": "code",
   "execution_count": 7,
   "id": "147b6fd4-d1dc-48b2-8369-56128aa3f793",
   "metadata": {},
   "outputs": [
    {
     "name": "stdout",
     "output_type": "stream",
     "text": [
      "An error occurred: list index out of range\n"
     ]
    }
   ],
   "source": [
    "#19 Write a program that handles both IndexError and KeyError using a try-except block\n",
    "try:\n",
    "    lst = [1, 2, 3]\n",
    "    print(lst[5])\n",
    "    d = {\"a\": 1}\n",
    "    print(d[\"b\"])\n",
    "except (IndexError, KeyError) as e:\n",
    "    print(\"An error occurred:\", e)"
   ]
  },
  {
   "cell_type": "code",
   "execution_count": 10,
   "id": "f952bcee-e55c-4e97-8cc1-66705d946ca2",
   "metadata": {},
   "outputs": [
    {
     "name": "stdout",
     "output_type": "stream",
     "text": [
      "This is the first line\n",
      "This is the seconds line\n",
      "This is the third line\n",
      "\n"
     ]
    }
   ],
   "source": [
    "#20 How would you open a file and read its contents using a context manager in Python\n",
    "with open(\"new.txt\", \"r\") as f:\n",
    "    content = f.read()\n",
    "    print(content)"
   ]
  },
  {
   "cell_type": "code",
   "execution_count": 11,
   "id": "cfa9e714-b60d-4159-a17d-0fb41872646e",
   "metadata": {},
   "outputs": [
    {
     "name": "stdout",
     "output_type": "stream",
     "text": [
      "Occurrences: 3\n"
     ]
    }
   ],
   "source": [
    "#21 Write a Python program that reads a file and prints the number of occurrences of a specific word\n",
    "word = \"this\"\n",
    "count = 0\n",
    "with open(\"new.txt\", \"r\") as f:\n",
    "    for line in f:\n",
    "        count += line.lower().split().count(word.lower())\n",
    "print(\"Occurrences:\", count)"
   ]
  },
  {
   "cell_type": "code",
   "execution_count": 14,
   "id": "16f87747-f415-4eed-9b27-4fc80aab5b7e",
   "metadata": {},
   "outputs": [
    {
     "name": "stdout",
     "output_type": "stream",
     "text": [
      "File is empty\n"
     ]
    }
   ],
   "source": [
    "#22 How can you check if a file is empty before attempting to read its contents\n",
    "import os\n",
    "\n",
    "if os.path.getsize(\"new1.txt\") == 0:\n",
    "    print(\"File is empty\")\n",
    "else:\n",
    "    with open(\"new1.txt\", \"r\") as f:\n",
    "        print(f.read())"
   ]
  },
  {
   "cell_type": "code",
   "execution_count": 15,
   "id": "d4a15d99-51a8-4cbf-8bf7-260e69691abd",
   "metadata": {},
   "outputs": [],
   "source": [
    "#23 Write a Python program that writes to a log file when an error occurs during file handling\n",
    "import logging\n",
    "\n",
    "logging.basicConfig(filename=\"program.log\", level=logging.DEBUG, format = \"%(asctime)s %(levelname)s %(message)s\")\n",
    "\n",
    "try:\n",
    "    with open(\"nofile.txt\", \"r\") as f:\n",
    "        data = f.read()\n",
    "except Exception as e:\n",
    "    logging.error(\"Error occurred: %s\", e)"
   ]
  },
  {
   "cell_type": "code",
   "execution_count": null,
   "id": "e65f632d-5e28-4fda-ac11-ae4cee432e9c",
   "metadata": {},
   "outputs": [],
   "source": []
  }
 ],
 "metadata": {
  "kernelspec": {
   "display_name": "Python 3 (ipykernel)",
   "language": "python",
   "name": "python3"
  },
  "language_info": {
   "codemirror_mode": {
    "name": "ipython",
    "version": 3
   },
   "file_extension": ".py",
   "mimetype": "text/x-python",
   "name": "python",
   "nbconvert_exporter": "python",
   "pygments_lexer": "ipython3",
   "version": "3.12.10"
  }
 },
 "nbformat": 4,
 "nbformat_minor": 5
}
